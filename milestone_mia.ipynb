{
 "cells": [
  {
   "cell_type": "code",
   "execution_count": 51,
   "id": "38851716",
   "metadata": {},
   "outputs": [],
   "source": [
    "import pandas as pd\n",
    "import matplotlib.pyplot as plt"
   ]
  },
  {
   "cell_type": "code",
   "execution_count": 52,
   "id": "0919e45c",
   "metadata": {},
   "outputs": [],
   "source": [
    "positive = pd.read_csv('positive_words.txt')\n",
    "negative = pd.read_csv('negative_words.txt')"
   ]
  },
  {
   "cell_type": "code",
   "execution_count": 53,
   "id": "878d9877",
   "metadata": {},
   "outputs": [],
   "source": [
    "game_dic = {\"alden ring\":[], 'other game': [], 'game hour': []}\n",
    "game_data = pd.DataFrame(data=game_dic)\n",
    "user_response = []"
   ]
  },
  {
   "cell_type": "code",
   "execution_count": 54,
   "id": "865393a7",
   "metadata": {},
   "outputs": [],
   "source": [
    "pos_list = positive['positive_words'].tolist()\n",
    "neg_list = negative['negative_words'].tolist()"
   ]
  },
  {
   "cell_type": "code",
   "execution_count": 55,
   "id": "6a1cfcef",
   "metadata": {},
   "outputs": [],
   "source": [
    "def isFloat(s):\n",
    "   try:\n",
    "      float(s)\n",
    "      return True\n",
    "   except:\n",
    "      return False"
   ]
  },
  {
   "cell_type": "code",
   "execution_count": 63,
   "id": "97c68ac6",
   "metadata": {},
   "outputs": [
    {
     "name": "stdout",
     "output_type": "stream",
     "text": [
      "Hi, how's it going?good\n",
      "It's nice to meet you! How do you think about Alden Ring?love it\n",
      "0 1 1\n",
      "Sounds good! Do you play other games?stardew valley\n",
      "That is interesting. How much time do you spend on playing game every week?10 hour\n",
      "Thank you! Goodbye\n",
      "Hi, how's it going?good\n",
      "It's nice to meet you! How do you think about Alden Ring?hate it\n",
      "1 0 1\n",
      "Ok then...What is your favorite game?gta 5\n",
      "That is interesting. How much time do you spend on playing game every week?1 hour\n",
      "Thank you! Goodbye\n",
      "Hi, how's it going?good\n",
      "It's nice to meet you! How do you think about Alden Ring?it is ok\n",
      "0 0 3\n",
      "Alright. Do you have other game recommendation?stardew valley\n",
      "That is interesting. How much time do you spend on playing game every week?1 hour\n",
      "Thank you! Goodbye\n"
     ]
    }
   ],
   "source": [
    "quit = [\"q\", 'bye', 'stop', 'quit']\n",
    "game_pref = {}\n",
    "neg_count = 0\n",
    "pos_count = 0\n",
    "neu_count = 0\n",
    "\n",
    "user_count = 0\n",
    "\n",
    "while user_count < 3:\n",
    "    user_count += 1\n",
    "\n",
    "    user = input(\"Hi, how's it going?\")\n",
    "\n",
    "    while user.lower() not in quit:\n",
    "        user = input(\"It's nice to meet you! How do you think about Alden Ring?\")\n",
    "        sentiment = user.split()\n",
    "        for i in sentiment:\n",
    "            if i.lower() in neg_list:\n",
    "                neg_count += 1\n",
    "            elif i.lower() in pos_list:\n",
    "                pos_count += 1\n",
    "            else:\n",
    "                neu_count += 1\n",
    "        print(neg_count, pos_count, neu_count)\n",
    "        if user.lower() not in quit:\n",
    "            if neg_count < pos_count and neg_count < 3 and (neu_count/len(sentiment)) < 0.8:\n",
    "                game_pref['alden_ring'] = 'love'\n",
    "                user = input('Sounds good! Do you play other games?')\n",
    "                game_pref['other_game'] = user\n",
    "            elif neg_count > pos_count and (neu_count/len(sentiment)) < 0.8:\n",
    "                game_pref['alden_ring'] = 'hate'\n",
    "                user = input('Ok then...What is your favorite game?')\n",
    "                game_pref['other_game'] = user\n",
    "            else: \n",
    "                game_pref['alden_ring'] = 'neutral'\n",
    "                user = input('Alright. Do you have other game recommendation?')\n",
    "                game_pref['other_game'] = user\n",
    "            if user.lower() not in quit:\n",
    "                user = input('That is interesting. How much time do you spend on playing game every week?')\n",
    "                if user.lower() not in quit:\n",
    "                    game_pref['time'] = user\n",
    "                    if isFloat(user) is True:\n",
    "                        user = input('Is the time in hour, minute, or seconds?')\n",
    "                        if user.lower() not in quit:\n",
    "                            game_pref['time'] += \" \" + user\n",
    "        user_response.append(game_pref)\n",
    "        game_pref = {}\n",
    "        neg_count = 0\n",
    "        pos_count = 0\n",
    "        neu_count = 0\n",
    "        user = \"quit\"\n",
    "        print('Thank you! Goodbye')"
   ]
  },
  {
   "cell_type": "code",
   "execution_count": 64,
   "id": "bfc40eae",
   "metadata": {},
   "outputs": [],
   "source": [
    "user_input = pd.DataFrame(user_response)"
   ]
  },
  {
   "cell_type": "code",
   "execution_count": 65,
   "id": "6a7bb710",
   "metadata": {},
   "outputs": [
    {
     "data": {
      "text/html": [
       "<div>\n",
       "<style scoped>\n",
       "    .dataframe tbody tr th:only-of-type {\n",
       "        vertical-align: middle;\n",
       "    }\n",
       "\n",
       "    .dataframe tbody tr th {\n",
       "        vertical-align: top;\n",
       "    }\n",
       "\n",
       "    .dataframe thead th {\n",
       "        text-align: right;\n",
       "    }\n",
       "</style>\n",
       "<table border=\"1\" class=\"dataframe\">\n",
       "  <thead>\n",
       "    <tr style=\"text-align: right;\">\n",
       "      <th></th>\n",
       "      <th>alden_ring</th>\n",
       "      <th>other_game</th>\n",
       "      <th>time</th>\n",
       "    </tr>\n",
       "  </thead>\n",
       "  <tbody>\n",
       "    <tr>\n",
       "      <th>0</th>\n",
       "      <td>love</td>\n",
       "      <td>stardew valley</td>\n",
       "      <td>10 hours</td>\n",
       "    </tr>\n",
       "    <tr>\n",
       "      <th>1</th>\n",
       "      <td>neutral</td>\n",
       "      <td>gta 5</td>\n",
       "      <td>5 hour</td>\n",
       "    </tr>\n",
       "    <tr>\n",
       "      <th>2</th>\n",
       "      <td>neutral</td>\n",
       "      <td>no</td>\n",
       "      <td>10 hour</td>\n",
       "    </tr>\n",
       "    <tr>\n",
       "      <th>3</th>\n",
       "      <td>love</td>\n",
       "      <td>stardew valley</td>\n",
       "      <td>10 hour</td>\n",
       "    </tr>\n",
       "    <tr>\n",
       "      <th>4</th>\n",
       "      <td>neutral</td>\n",
       "      <td>quit</td>\n",
       "      <td>NaN</td>\n",
       "    </tr>\n",
       "    <tr>\n",
       "      <th>5</th>\n",
       "      <td>love</td>\n",
       "      <td>stardew valley</td>\n",
       "      <td>10 hour</td>\n",
       "    </tr>\n",
       "    <tr>\n",
       "      <th>6</th>\n",
       "      <td>hate</td>\n",
       "      <td>gta 5</td>\n",
       "      <td>1 hour</td>\n",
       "    </tr>\n",
       "    <tr>\n",
       "      <th>7</th>\n",
       "      <td>neutral</td>\n",
       "      <td>stardew valley</td>\n",
       "      <td>1 hour</td>\n",
       "    </tr>\n",
       "  </tbody>\n",
       "</table>\n",
       "</div>"
      ],
      "text/plain": [
       "  alden_ring      other_game      time\n",
       "0       love  stardew valley  10 hours\n",
       "1    neutral           gta 5    5 hour\n",
       "2    neutral              no   10 hour\n",
       "3       love  stardew valley   10 hour\n",
       "4    neutral            quit       NaN\n",
       "5       love  stardew valley   10 hour\n",
       "6       hate           gta 5    1 hour\n",
       "7    neutral  stardew valley    1 hour"
      ]
     },
     "execution_count": 65,
     "metadata": {},
     "output_type": "execute_result"
    }
   ],
   "source": [
    "user_input"
   ]
  },
  {
   "cell_type": "code",
   "execution_count": 66,
   "id": "6b8f6449",
   "metadata": {},
   "outputs": [
    {
     "data": {
      "text/plain": [
       "<AxesSubplot:ylabel='How do you think about alden ring?'>"
      ]
     },
     "execution_count": 66,
     "metadata": {},
     "output_type": "execute_result"
    },
    {
     "data": {
      "image/png": "[encoded data removed]",
      "text/plain": [
       "<Figure size 640x480 with 1 Axes>"
      ]
     },
     "metadata": {},
     "output_type": "display_data"
    }
   ],
   "source": [
    "user_input['alden_ring'].value_counts().plot(kind='barh', xlabel=\"How do you think about alden ring?\")"
   ]
  },
  {
   "cell_type": "code",
   "execution_count": 67,
   "id": "4304e216",
   "metadata": {},
   "outputs": [
    {
     "data": {
      "text/plain": [
       "<AxesSubplot:ylabel='What other games do you play'>"
      ]
     },
     "execution_count": 67,
     "metadata": {},
     "output_type": "execute_result"
    },
    {
     "data": {
      "image/png": "[encoded data removed]",
      "text/plain": [
       "<Figure size 640x480 with 1 Axes>"
      ]
     },
     "metadata": {},
     "output_type": "display_data"
    }
   ],
   "source": [
    "user_input['other_game'].value_counts().plot(kind='barh', xlabel='What other games do you play')"
   ]
  },
  {
   "cell_type": "code",
   "execution_count": 68,
   "id": "cab63eb2",
   "metadata": {},
   "outputs": [
    {
     "data": {
      "text/plain": [
       "<AxesSubplot:ylabel='How much time you spend on play games?'>"
      ]
     },
     "execution_count": 68,
     "metadata": {},
     "output_type": "execute_result"
    },
    {
     "data": {
      "image/png": "[encoded data removed]",
      "text/plain": [
       "<Figure size 640x480 with 1 Axes>"
      ]
     },
     "metadata": {},
     "output_type": "display_data"
    }
   ],
   "source": [
    "user_input['time'].value_counts().plot(kind='barh', xlabel='How much time you spend on play games?')"
   ]
  }
 ],
 "metadata": {
  "kernelspec": {
   "display_name": "Python 3",
   "language": "python",
   "name": "python3"
  },
  "language_info": {
   "codemirror_mode": {
    "name": "ipython",
    "version": 3
   },
   "file_extension": ".py",
   "mimetype": "text/x-python",
   "name": "python",
   "nbconvert_exporter": "python",
   "pygments_lexer": "ipython3",
   "version": "3.9.12"
  },
  "vscode": {
   "interpreter": {
    "hash": "aee8b7b246df8f9039afb4144a1f6fd8d2ca17a180786b69acc140d282b71a49"
   }
  }
 },
 "nbformat": 4,
 "nbformat_minor": 5
}
